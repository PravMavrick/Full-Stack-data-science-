{
  "nbformat": 4,
  "nbformat_minor": 0,
  "metadata": {
    "colab": {
      "name": "PyProgramAss2.ipynb",
      "provenance": [],
      "collapsed_sections": []
    },
    "kernelspec": {
      "name": "python3",
      "display_name": "Python 3"
    },
    "language_info": {
      "name": "python"
    }
  },
  "cells": [
    {
      "cell_type": "markdown",
      "metadata": {
        "id": "IprhDFn01gvb"
      },
      "source": [
        "#1.\tWrite a Python program to convert kilometers to miles?"
      ]
    },
    {
      "cell_type": "code",
      "metadata": {
        "colab": {
          "base_uri": "https://localhost:8080/"
        },
        "id": "OKV9uzIo1kYC",
        "outputId": "e3449bc5-6233-4759-f03f-1f1afe1a68f9"
      },
      "source": [
        "kilometer = 15\n",
        "\n",
        "miles = kilometer * 0.62137\n",
        "\n",
        "print(\"{} Kilometer is equals to {:.2f} miles \" .format(kilometer, miles))"
      ],
      "execution_count": 7,
      "outputs": [
        {
          "output_type": "stream",
          "text": [
            "15 Kilometer is equals to 9.32 miles \n"
          ],
          "name": "stdout"
        }
      ]
    },
    {
      "cell_type": "markdown",
      "metadata": {
        "id": "9_CnACfy1gNc"
      },
      "source": [
        "#2.\tWrite a Python program to convert Celsius to Fahrenheit?"
      ]
    },
    {
      "cell_type": "code",
      "metadata": {
        "colab": {
          "base_uri": "https://localhost:8080/"
        },
        "id": "tTffut6C2Wge",
        "outputId": "ce35e371-b313-43df-9420-8b4aff3b03be"
      },
      "source": [
        "celcius = 17\n",
        "\n",
        "fahrenheit = (celcius*9/5) + 32\n",
        "\n",
        "print(\"{} Celsius is equals to {:.2f} Fahrenheit \" .format(celcius, fahrenheit))"
      ],
      "execution_count": 9,
      "outputs": [
        {
          "output_type": "stream",
          "text": [
            "17 Celsius is equals to 62.60 Fahrenheit \n"
          ],
          "name": "stdout"
        }
      ]
    },
    {
      "cell_type": "markdown",
      "metadata": {
        "id": "8SgyK1-h221z"
      },
      "source": [
        "#3.\tWrite a Python program to display calendar?"
      ]
    },
    {
      "cell_type": "code",
      "metadata": {
        "colab": {
          "base_uri": "https://localhost:8080/"
        },
        "id": "ylJcJGwQ21_C",
        "outputId": "d6b5be19-ca51-4304-d779-8ecd0dbeaa31"
      },
      "source": [
        "import calendar\n",
        "\n",
        "month = 3\n",
        "year  = 2021\n",
        "\n",
        "print(calendar.month(year,month))"
      ],
      "execution_count": 13,
      "outputs": [
        {
          "output_type": "stream",
          "text": [
            "     March 2021\n",
            "Mo Tu We Th Fr Sa Su\n",
            " 1  2  3  4  5  6  7\n",
            " 8  9 10 11 12 13 14\n",
            "15 16 17 18 19 20 21\n",
            "22 23 24 25 26 27 28\n",
            "29 30 31\n",
            "\n"
          ],
          "name": "stdout"
        }
      ]
    },
    {
      "cell_type": "markdown",
      "metadata": {
        "id": "Fe_9Ecvn6QY9"
      },
      "source": [
        ""
      ]
    },
    {
      "cell_type": "markdown",
      "metadata": {
        "id": "EG7Q4LM53_NL"
      },
      "source": [
        "#4.\tWrite a Python program to solve quadratic equation?\n",
        "\n",
        "Quadratic Formula: x = [ -b (+-) sqrt(b^2 - 4ac) ] / 2a\n",
        "\n",
        "Just plug in the values of a, b and c, and do the calculations.\n",
        "\n",
        "We will look at this method in more detail now.\n",
        "\n",
        "# Solve the quadratic equation ax**2 + bx + c = 0"
      ]
    },
    {
      "cell_type": "code",
      "metadata": {
        "colab": {
          "base_uri": "https://localhost:8080/"
        },
        "id": "NI439xUZ6VSw",
        "outputId": "93cbfef0-19e4-4697-fdef-7defadb10803"
      },
      "source": [
        "import cmath\n",
        "\n",
        "#a values should not be Zero\n",
        "\n",
        "a = 5 \n",
        "b = 7\n",
        "c = 2\n",
        " #calculate the descriminent \n",
        "desc = (b**2) - (4*a*c)\n",
        "\n",
        "print(\"Descriminent value : {:.2f}\" .format(desc))\n",
        "\n",
        "sol1 = (b + cmath.sqrt(desc)) / (2*a)\n",
        "sol2 = (b - cmath.sqrt(desc)) / (2*a)\n",
        "\n",
        "print(\"Quadratic solution 1 : {:.2f}\" .format(sol1))\n",
        "\n",
        "print(\"Quadratic solution 1 : {:.2f}\" .format(sol2))\n"
      ],
      "execution_count": 21,
      "outputs": [
        {
          "output_type": "stream",
          "text": [
            "Descriminent value : 9.00\n",
            "Quadratic solution 1 : 1.00+0.00j\n",
            "Quadratic solution 1 : 0.40+0.00j\n"
          ],
          "name": "stdout"
        }
      ]
    },
    {
      "cell_type": "markdown",
      "metadata": {
        "id": "mLL6B9wp76S_"
      },
      "source": [
        "#5.\tWrite a Python program to swap two variables without temp variable?"
      ]
    },
    {
      "cell_type": "code",
      "metadata": {
        "colab": {
          "base_uri": "https://localhost:8080/"
        },
        "id": "rzC_1V0n37fj",
        "outputId": "b2567663-6003-4cd3-e5ff-0e0aaa752315"
      },
      "source": [
        "a = 13\n",
        "b = 17\n",
        "print (\"Before swapping : \" ,a,b)\n",
        "\n",
        "a = a + b\n",
        "b = a - b\n",
        "a = a - b\n",
        "\n",
        "print (\"After swapping : \" ,a,b)"
      ],
      "execution_count": 24,
      "outputs": [
        {
          "output_type": "stream",
          "text": [
            "Before swapping :  13 17\n",
            "After swapping :  17 13\n"
          ],
          "name": "stdout"
        }
      ]
    },
    {
      "cell_type": "code",
      "metadata": {
        "id": "tuZxD6W06TIT"
      },
      "source": [
        ""
      ],
      "execution_count": null,
      "outputs": []
    }
  ]
}