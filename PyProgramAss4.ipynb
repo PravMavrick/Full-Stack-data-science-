{
  "nbformat": 4,
  "nbformat_minor": 0,
  "metadata": {
    "colab": {
      "name": "PyProgramAss4.ipynb",
      "provenance": [],
      "collapsed_sections": []
    },
    "kernelspec": {
      "name": "python3",
      "display_name": "Python 3"
    },
    "language_info": {
      "name": "python"
    }
  },
  "cells": [
    {
      "cell_type": "markdown",
      "metadata": {
        "id": "4VADXkAqLDXo"
      },
      "source": [
        "#1.\tWrite a Python Program to Find the Factorial of a Number?"
      ]
    },
    {
      "cell_type": "code",
      "metadata": {
        "colab": {
          "base_uri": "https://localhost:8080/"
        },
        "id": "DunTWnIZLJvU",
        "outputId": "f202f1d2-3916-45ac-a1af-cbb7e41caa1c"
      },
      "source": [
        "num1 = int(input(\"Enter the Number : \"))\n",
        "fact=1\n",
        "for i in range(1, num1+1):\n",
        "  fact = fact * i\n",
        "\n",
        "print(\"Factorial of {} is {} \" .format(num1,fact))"
      ],
      "execution_count": 4,
      "outputs": [
        {
          "output_type": "stream",
          "text": [
            "Enter the Number : 5\n",
            "Factorial of 5 is 120 \n"
          ],
          "name": "stdout"
        }
      ]
    },
    {
      "cell_type": "markdown",
      "metadata": {
        "id": "cjEnG-31Lv9I"
      },
      "source": [
        "#2.\tWrite a Python Program to Display the multiplication Table?"
      ]
    },
    {
      "cell_type": "code",
      "metadata": {
        "colab": {
          "base_uri": "https://localhost:8080/"
        },
        "id": "mXBKG2I5LvIl",
        "outputId": "2eead684-0aaf-43ed-c6e5-72f7709f2870"
      },
      "source": [
        "num2 = int(input(\"Enter the Number : \"))\n",
        "\n",
        "for i in range(1, 11):\n",
        "  print(num2 * i)\n"
      ],
      "execution_count": 5,
      "outputs": [
        {
          "output_type": "stream",
          "text": [
            "Enter the Number : 5\n",
            "5\n",
            "10\n",
            "15\n",
            "20\n",
            "25\n",
            "30\n",
            "35\n",
            "40\n",
            "45\n",
            "50\n"
          ],
          "name": "stdout"
        }
      ]
    },
    {
      "cell_type": "code",
      "metadata": {
        "colab": {
          "base_uri": "https://localhost:8080/"
        },
        "id": "G8-mL_35MOAY",
        "outputId": "b1ede2e0-0155-4781-8fa5-78935266b896"
      },
      "source": [
        "#mutliplicaiton table\n",
        "for i in range(1, 11) :\n",
        "  for j in range (1, 11) :\n",
        "    print (i*j, end='  ')\n",
        "  print()"
      ],
      "execution_count": 7,
      "outputs": [
        {
          "output_type": "stream",
          "text": [
            "1  2  3  4  5  6  7  8  9  10  \n",
            "2  4  6  8  10  12  14  16  18  20  \n",
            "3  6  9  12  15  18  21  24  27  30  \n",
            "4  8  12  16  20  24  28  32  36  40  \n",
            "5  10  15  20  25  30  35  40  45  50  \n",
            "6  12  18  24  30  36  42  48  54  60  \n",
            "7  14  21  28  35  42  49  56  63  70  \n",
            "8  16  24  32  40  48  56  64  72  80  \n",
            "9  18  27  36  45  54  63  72  81  90  \n",
            "10  20  30  40  50  60  70  80  90  100  \n"
          ],
          "name": "stdout"
        }
      ]
    },
    {
      "cell_type": "markdown",
      "metadata": {
        "id": "cpI8uaCdMgfR"
      },
      "source": [
        "#3.\tWrite a Python Program to Print the Fibonacci sequence?"
      ]
    },
    {
      "cell_type": "code",
      "metadata": {
        "colab": {
          "base_uri": "https://localhost:8080/"
        },
        "id": "mv-Gc173Mkla",
        "outputId": "f1f083dc-2ef5-4d7b-d381-96fa19ce4cff"
      },
      "source": [
        "#fibonacci series\n",
        "step = int(input(\"Enter total steps : \"))\n",
        "\n",
        "print(\"Fibonacci series as below :\")\n",
        "f1=0\n",
        "f2=1\n",
        "print(f1, end ='  ')\n",
        "\n",
        "for i in range(1,step) :\n",
        "   sum=f1 + f2\n",
        "   print(sum, end='  ')\n",
        "   f1 = f2\n",
        "   f2 = sum\n"
      ],
      "execution_count": 14,
      "outputs": [
        {
          "output_type": "stream",
          "text": [
            "Enter total steps : 9\n",
            "Fibonacci series as below :\n",
            "0  1  2  3  5  8  13  21  34  "
          ],
          "name": "stdout"
        }
      ]
    },
    {
      "cell_type": "markdown",
      "metadata": {
        "id": "So3EqTuPPsf8"
      },
      "source": [
        "#4.\tWrite a Python Program to Check Armstrong Number?"
      ]
    },
    {
      "cell_type": "code",
      "metadata": {
        "colab": {
          "base_uri": "https://localhost:8080/"
        },
        "id": "BlGUJKddO4Tq",
        "outputId": "1f91df0c-ce09-407b-a173-ef88b4454828"
      },
      "source": [
        "#armstrong number \n",
        "num3 = int(input(\"Enter the Number : \"))\n",
        "num4 = num3\n",
        "factor=len(str(num4))\n",
        "sum=0\n",
        "\n",
        "while num3 > 0 :\n",
        "  rem = num3 % 10\n",
        "  sum = sum + rem ** factor\n",
        "  num3 = int( num3 / 10 )\n",
        "\n",
        "if num4 == sum :\n",
        "  print(\"{} is Armstrong number \" .format(sum))\n",
        "else :\n",
        "  print (\"{} is not Armstrong number\" .format(num4))\n"
      ],
      "execution_count": 27,
      "outputs": [
        {
          "output_type": "stream",
          "text": [
            "Enter the Number : 1634\n",
            "1634 is Armstrong number \n"
          ],
          "name": "stdout"
        }
      ]
    },
    {
      "cell_type": "markdown",
      "metadata": {
        "id": "Gi6G7iJ9Q0LP"
      },
      "source": [
        "#5.\tWrite a Python Program to Find Armstrong Number in an Interval?"
      ]
    },
    {
      "cell_type": "code",
      "metadata": {
        "colab": {
          "base_uri": "https://localhost:8080/"
        },
        "id": "duGjjQ2zQy_n",
        "outputId": "fac1e912-91bc-45b4-9cdf-73a03334aaed"
      },
      "source": [
        "def getArmstrongNum(num4):\n",
        "  sum=0\n",
        "  factor = len(str(num4))\n",
        "  while num4 > 0 :\n",
        "    rem = num4 % 10\n",
        "    sum = sum + rem ** factor\n",
        "    num4 = int( num4 / 10 )\n",
        "  return sum\n",
        "\n",
        "\n",
        "upperRange = int(input(\"Enter upper range : \"))\n",
        "for i in range(1, upperRange):\n",
        "   if i == getArmstrongNum(i) :\n",
        "     print(i, end = ' ')"
      ],
      "execution_count": 31,
      "outputs": [
        {
          "output_type": "stream",
          "text": [
            "Enter upper range : 100000\n",
            "1 2 3 4 5 6 7 8 9 153 370 371 407 1634 8208 9474 54748 92727 93084 "
          ],
          "name": "stdout"
        }
      ]
    },
    {
      "cell_type": "markdown",
      "metadata": {
        "id": "pgSrYoRbVGo9"
      },
      "source": [
        "#6.\tWrite a Python Program to Find the Sum of Natural Numbers?"
      ]
    },
    {
      "cell_type": "code",
      "metadata": {
        "colab": {
          "base_uri": "https://localhost:8080/"
        },
        "id": "q6u9Bv6tVFpq",
        "outputId": "efe56037-31c7-4a01-b4b2-5801f940b148"
      },
      "source": [
        "num6 = int(input(\"Enter the upperrange of natural numbers : \"))\n",
        "\n",
        "sum1 = (num6 * (num6+1))/2\n",
        "\n",
        "print (\"Sum of natural numbers till {} is {:.2f}\" .format(num6,sum1))"
      ],
      "execution_count": 34,
      "outputs": [
        {
          "output_type": "stream",
          "text": [
            "Enter the upperrange of natural numbers100\n",
            "Sum of natural numbers till 100 is 5050.00\n"
          ],
          "name": "stdout"
        }
      ]
    }
  ]
}