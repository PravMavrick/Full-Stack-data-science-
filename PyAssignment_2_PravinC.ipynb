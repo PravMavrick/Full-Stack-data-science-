{
  "nbformat": 4,
  "nbformat_minor": 0,
  "metadata": {
    "colab": {
      "name": "PyAssignment_2_PravinC.ipynb",
      "provenance": [],
      "collapsed_sections": []
    },
    "kernelspec": {
      "name": "python3",
      "display_name": "Python 3"
    }
  },
  "cells": [
    {
      "cell_type": "markdown",
      "metadata": {
        "id": "k-QG1yVIIabJ"
      },
      "source": [
        "##Question 1 : What are the Boolean data type's two values? How do you go about writing them?\r\n",
        "\r\n",
        "Answer:\r\n",
        "\r\n",
        "True\r\n",
        "\r\n",
        "False\r\n",
        "\r\n",
        "a= True\r\n",
        "\r\n",
        "b= False\r\n"
      ]
    },
    {
      "cell_type": "markdown",
      "metadata": {
        "id": "isEDgxOyJo2Q"
      },
      "source": [
        "##Question 2 : What are the three different types of Boolean operators?\r\n",
        "\r\n",
        "Answer:\r\n",
        "\r\n",
        "and - results True if both values are true otherwise False\r\n",
        "\r\n",
        "or - results True if either condition is True otherwise False\r\n",
        "\r\n",
        "not - not operater which will reverse the boolen value"
      ]
    },
    {
      "cell_type": "code",
      "metadata": {
        "colab": {
          "base_uri": "https://localhost:8080/"
        },
        "id": "b0vNi4A7JzcC",
        "outputId": "2ca94ad3-c32f-44c8-cd47-b8d33cf6c478"
      },
      "source": [
        "a=10\r\n",
        "b=5\r\n",
        "print(a and b)\r\n",
        "print(a or b )\r\n",
        "print(not(0))\r\n",
        "\r\n"
      ],
      "execution_count": 13,
      "outputs": [
        {
          "output_type": "stream",
          "text": [
            "5\n",
            "10\n",
            "False\n"
          ],
          "name": "stdout"
        }
      ]
    },
    {
      "cell_type": "markdown",
      "metadata": {
        "id": "K4vVtLI1JooV"
      },
      "source": [
        "##Questions 3 : Make a list of each Boolean operator's truth tables (i.e. every possible combination of Boolean values for the operator and what it evaluate ).\r\n",
        "\r\n",
        "Answer:\r\n",
        "\r\n",
        "* and operator:\r\n",
        "\r\n",
        "  1 -  1  True\r\n",
        "\r\n",
        "  1 - 0   False\r\n",
        "\r\n",
        "  0 - 1   False\r\n",
        "\r\n",
        "  0 - 0   False\r\n",
        "\r\n",
        "\r\n",
        "* or operator:\r\n",
        "\r\n",
        "  1 -  1  True\r\n",
        "\r\n",
        "  1 - 0   True\r\n",
        "\r\n",
        "  0 - 1   True\r\n",
        "\r\n",
        "  0 - 0   False\r\n",
        "\r\n",
        "\r\n",
        "\r\n",
        "* not operator :\r\n",
        "\r\n",
        "  1    False\r\n",
        "\r\n",
        "  0    True"
      ]
    },
    {
      "cell_type": "markdown",
      "metadata": {
        "id": "PskOf-GaM9az"
      },
      "source": [
        "##Question 4 : . What are the values of the following expressions?\r\n",
        "\r\n",
        "(5 > 4) and (3 == 5)\r\n",
        "not (5 > 4)\r\n",
        "(5 > 4) or (3 == 5)\r\n",
        "not ((5 > 4) or (3 == 5))\r\n",
        "(True and True) and (True == False)\r\n",
        "(not False) or (not True)\r\n",
        "\r\n",
        "Answer:\r\n",
        "\r\n",
        "* (5 > 4) and (3 == 5)  - False\r\n",
        " \r\n",
        "* not (5 > 4)  - False\r\n",
        "\r\n",
        "* (5 > 4) or (3 == 5) - True\r\n",
        "\r\n",
        "* not ((5 > 4) or (3 == 5)) - False\r\n",
        "\r\n",
        "* (True and True) and (True == False) - False\r\n",
        "\r\n",
        "* (not False) or (not True) - True\r\n"
      ]
    },
    {
      "cell_type": "markdown",
      "metadata": {
        "id": "phQ0BaTeyFH0"
      },
      "source": [
        "##Question 5 : What are the six different types of comparison operators?\r\n",
        "\r\n",
        "Answer:\r\n",
        "'>'  -- Greater than\r\n",
        "\r\n",
        "'>='  -- Greater than equals to\r\n",
        "\r\n",
        "'<'  -- less than\r\n",
        "\r\n",
        "'<='  -- less than equals to\r\n",
        "\r\n",
        "'=='  -- Equals to\r\n",
        "\r\n",
        "'!='  -- not equals to"
      ]
    },
    {
      "cell_type": "markdown",
      "metadata": {
        "id": "Qwwo7MQty2ys"
      },
      "source": [
        "##Question 6: How do you tell the difference between the equal to and assignment operators?\r\n",
        "\r\n",
        "Answer:\r\n",
        "\r\n",
        "'==' -- equals to is a comparision operator \r\n",
        "\r\n",
        "Assignment operator are used to assign computed values to variable"
      ]
    },
    {
      "cell_type": "markdown",
      "metadata": {
        "id": "R-HtuqwZz3It"
      },
      "source": [
        "##Question 7 : Describe a condition and when you would use one.\r\n",
        "\r\n",
        "Answer:\r\n",
        "condition statement will allow the comparision of two variables with different kind of comparision operators in order to decide the flow of program.\r\n",
        "\r\n",
        "condition statement can contain multiple condtions which are combined toghther with logical operators."
      ]
    },
    {
      "cell_type": "markdown",
      "metadata": {
        "id": "md7Y7gCu1A_G"
      },
      "source": [
        "##Question 8 : Recognize the following three blocks in this code:\r\n",
        "spam = 0\r\n",
        "if spam == 10:\r\n",
        "    print('eggs')\r\n",
        "    if spam > 5:\r\n",
        "        print('bacon')\r\n",
        "    else:\r\n",
        "        print('ham')\r\n",
        "    print('spam')\r\n",
        "print('spam')\r\n",
        "\r\n",
        "\r\n",
        "Answer:\r\n",
        "\r\n",
        "\r\n",
        "  \r\n",
        "  if spam == 10:\r\n",
        "    ##1st block:\r\n",
        "      print('eggs')\r\n",
        "       if spam > 5:\r\n",
        "       ##2nd block\r\n",
        "       print('bacon')\r\n",
        "    else:\r\n",
        "       ##3rd block\r\n",
        "       print('ham')\r\n",
        "    print('spam')\r\n",
        "print('spam')\r\n",
        "\r\n"
      ]
    },
    {
      "cell_type": "markdown",
      "metadata": {
        "id": "Wq8d3E9l16UZ"
      },
      "source": [
        "##Question 9 : Create a programme that prints. If 1 is stored in spam, prints Hello; if 2 is stored in spam, prints Howdy; and if 3 is stored in spam, prints Salutations! if there's something else in spam.\r\n",
        "\r\n"
      ]
    },
    {
      "cell_type": "code",
      "metadata": {
        "colab": {
          "base_uri": "https://localhost:8080/"
        },
        "id": "Ihow4sZi2s_y",
        "outputId": "d393df45-77e9-4ef0-fd1e-87affa642fea"
      },
      "source": [
        "spam=int(input(\"Enter spam value : \"))\r\n",
        "\r\n",
        "if spam == 1 :\r\n",
        "  print('Hello')\r\n",
        "elif spam == 2 :\r\n",
        "  print('Howdy')\r\n",
        "elif spam == 3 :\r\n",
        "  print('Salutations')\r\n",
        "else :\r\n",
        "  print('You are in else part')\r\n",
        " "
      ],
      "execution_count": 35,
      "outputs": [
        {
          "output_type": "stream",
          "text": [
            "Enter spam value : 2\n",
            "Howdy\n"
          ],
          "name": "stdout"
        }
      ]
    },
    {
      "cell_type": "markdown",
      "metadata": {
        "id": "YIoaZ_lJ4qQU"
      },
      "source": [
        "##Question 10 : If your programme is stuck in an endless loop, what keys can you press?\r\n",
        "\r\n",
        "Answer:\r\n",
        "to stop the infinite loop i will press Ctrl+M I in google colab."
      ]
    },
    {
      "cell_type": "markdown",
      "metadata": {
        "id": "AO6HqqLh4_c2"
      },
      "source": [
        "##Question 11 : How can you tell the difference between break and continue?\r\n",
        "\r\n",
        "Answer:\r\n",
        "\r\n",
        "break - break statement will immediately stops the execution and jump out of current loop\r\n",
        "\r\n",
        "continue - continue statement will skip the current iteration of loop execution and jump to continue next iteration (starting of loop header ) of current loop."
      ]
    },
    {
      "cell_type": "markdown",
      "metadata": {
        "id": "WYntyo3F5q_B"
      },
      "source": [
        "##Question 12 : In a for loop, what is the difference between range(10), range(0, 10), and range(0, 10, 1)?\r\n",
        "\r\n",
        "\r\n",
        "Answer:\r\n",
        "\r\n",
        "All 3 fundtions below will work as same in for loop:\r\n",
        "\r\n",
        "range(10) - bydefalut this funciton run from 0 to 9\r\n",
        "\r\n",
        "range(0, 10) - it starts from 0 to 9 with bydefalut step/size 1\r\n",
        "\r\n",
        "range(0, 10, 1) - it starts from 0 to 9 with step/size 1\r\n",
        "\r\n",
        "\r\n"
      ]
    },
    {
      "cell_type": "code",
      "metadata": {
        "colab": {
          "base_uri": "https://localhost:8080/"
        },
        "id": "3v4mgU7e5z0G",
        "outputId": "c91805ac-693d-454c-877a-d44ad13fb34e"
      },
      "source": [
        "for i in range(0,10,1):\r\n",
        "  print(i)\r\n",
        "\r\n"
      ],
      "execution_count": 39,
      "outputs": [
        {
          "output_type": "stream",
          "text": [
            "0\n",
            "1\n",
            "2\n",
            "3\n",
            "4\n",
            "5\n",
            "6\n",
            "7\n",
            "8\n",
            "9\n"
          ],
          "name": "stdout"
        }
      ]
    },
    {
      "cell_type": "markdown",
      "metadata": {
        "id": "Yh3xXnQK6bHt"
      },
      "source": [
        "##Question 13: Using a for loop, write a short programme that prints the numbers 1 to 10 Then, using a while loop, create an identical programme that prints the numbers 1 to 10.\r\n"
      ]
    },
    {
      "cell_type": "code",
      "metadata": {
        "colab": {
          "base_uri": "https://localhost:8080/"
        },
        "id": "EVvy5yTf6lg4",
        "outputId": "78d23564-4ffa-4542-ab42-6a316e3f4f23"
      },
      "source": [
        "for i in range(1,11,1):\r\n",
        "  print(i)"
      ],
      "execution_count": 42,
      "outputs": [
        {
          "output_type": "stream",
          "text": [
            "1\n",
            "2\n",
            "3\n",
            "4\n",
            "5\n",
            "6\n",
            "7\n",
            "8\n",
            "9\n",
            "10\n"
          ],
          "name": "stdout"
        }
      ]
    },
    {
      "cell_type": "code",
      "metadata": {
        "colab": {
          "base_uri": "https://localhost:8080/"
        },
        "id": "tOTDhwO46uIk",
        "outputId": "89795657-34d7-4759-d4ef-a9c6203f03ab"
      },
      "source": [
        "i=1\r\n",
        "while (i<=10) :\r\n",
        "  print(i)\r\n",
        "  i+=1\r\n"
      ],
      "execution_count": 43,
      "outputs": [
        {
          "output_type": "stream",
          "text": [
            "1\n",
            "2\n",
            "3\n",
            "4\n",
            "5\n",
            "6\n",
            "7\n",
            "8\n",
            "9\n",
            "10\n"
          ],
          "name": "stdout"
        }
      ]
    },
    {
      "cell_type": "markdown",
      "metadata": {
        "id": "1KKgMd-163PE"
      },
      "source": [
        "##Question 14 : If you had a bacon() function within a spam module, what would you call it after importing spam?\r\n",
        "\r\n",
        "Answer:\r\n",
        "local function"
      ]
    }
  ]
}