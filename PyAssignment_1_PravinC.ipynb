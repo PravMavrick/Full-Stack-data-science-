{
  "nbformat": 4,
  "nbformat_minor": 0,
  "metadata": {
    "colab": {
      "name": "PyAssignment-1_PravinC.ipynb",
      "provenance": [],
      "collapsed_sections": []
    },
    "kernelspec": {
      "name": "python3",
      "display_name": "Python 3"
    }
  },
  "cells": [
    {
      "cell_type": "markdown",
      "metadata": {
        "id": "xTcTDL2T6Ekh"
      },
      "source": [
        "##Question 1: What are the differences between operators and values in the following?\r\n",
        "*\r\n",
        "\r\n",
        "'hello'\r\n",
        "\r\n",
        "-87.8\r\n",
        "\r\n",
        "-\r\n",
        "\r\n",
        "/\r\n",
        "\r\n",
        "+\r\n",
        "\r\n",
        "6\r\n",
        "\r\n",
        "Answer: operators are special symbols which designates some sort of computation perfomed on operands.\r\n",
        "\r\n",
        "*--- multiplicaiton operator\r\n",
        "\r\n",
        "'hello'--- string value \r\n",
        "\r\n",
        "-87.8 --- negative floating point value\r\n",
        "\r\n",
        "-minus operator\r\n",
        "/---division operator\r\n",
        "\r\n",
        "+---plus symbol\r\n",
        "\r\n",
        "6---integer value\r\n",
        "\r\n"
      ]
    },
    {
      "cell_type": "markdown",
      "metadata": {
        "id": "oUM-Itj-67kK"
      },
      "source": [
        "##Question 2 : What is the difference between string and variable?\r\n",
        "spam\r\n",
        "'spam'\r\n",
        "\r\n",
        "Answer:\r\n",
        "\r\n",
        "spam - is a variable.\r\n",
        "\r\n",
        "'spam' - is a string value"
      ]
    },
    {
      "cell_type": "markdown",
      "metadata": {
        "id": "0IjtW1Q58LSI"
      },
      "source": [
        "##Question 3 : Describe three different data forms\r\n",
        "\r\n",
        "Answer:\r\n",
        "\r\n",
        "int - integer data form which will hold integer values.\r\n",
        "\r\n",
        "float - float data form which will hold floating values.\r\n",
        "\r\n",
        "str - string data form which will hold char or series of characters \r\n",
        "\r\n",
        "bool - boolen data form which will hold TRUE or FALSE values\r\n"
      ]
    },
    {
      "cell_type": "markdown",
      "metadata": {
        "id": "htYXy9cI9uaC"
      },
      "source": [
        "##Question 4 : What makes up an expression? What are the functions of all expressions?\r\n",
        "\r\n",
        "##Answer:\r\n",
        "\r\n",
        "An expression is an instruction that combines values and operators and always evaluates down to a single value.\r\n",
        "\r\n",
        "functons of expression:\r\n",
        "\r\n",
        "abs()\tReturns absolute value of a number\r\n",
        "\r\n",
        "divmod()\tReturns quotient and remainder of integer division\r\n",
        "\r\n",
        "max()\tReturns the largest of the given arguments or items in an iterable\r\n",
        "\r\n",
        "min()\tReturns the smallest of the given arguments or items in an iterable\r\n",
        "\r\n",
        "pow()\tRaises a number to a power\r\n",
        "\r\n",
        "round()\tRounds a floating-point value\r\n",
        "\r\n",
        "sum()\tSums the items of an iterable\r\n"
      ]
    },
    {
      "cell_type": "markdown",
      "metadata": {
        "id": "0xchO3MbAEhq"
      },
      "source": [
        "##Question 5 : In this chapter, assignment statements such as spam = 10 were added. What's the difference between a declaration and an expression?\r\n",
        "\r\n",
        "\r\n",
        "##Answer:\r\n",
        "\r\n",
        "declaration - spam is variable which will be any of the data form class type\r\n",
        "\r\n",
        "expression - which will allow to assign value to spam varible with 10 value\r\n",
        "             now spam variable type becomes INT\r\n"
      ]
    },
    {
      "cell_type": "markdown",
      "metadata": {
        "id": "sdsXF7nUA0km"
      },
      "source": [
        "##Question 6 : After running the following code, what does the variable bacon contain?\r\n",
        "\r\n",
        "bacon = 22\r\n",
        "\r\n",
        "bacon + 1\r\n",
        "\r\n"
      ]
    },
    {
      "cell_type": "code",
      "metadata": {
        "colab": {
          "base_uri": "https://localhost:8080/"
        },
        "id": "BHxHe32uBBbA",
        "outputId": "dd300cd6-f486-4be8-b113-dd87558108ee"
      },
      "source": [
        "bacon=22\r\n",
        "bacon+1"
      ],
      "execution_count": 5,
      "outputs": [
        {
          "output_type": "execute_result",
          "data": {
            "text/plain": [
              "23"
            ]
          },
          "metadata": {
            "tags": []
          },
          "execution_count": 5
        }
      ]
    },
    {
      "cell_type": "markdown",
      "metadata": {
        "id": "dc4HZ-Y7BHjA"
      },
      "source": [
        "##Question 7 : What should the values of the following two terms be?\r\n",
        "\r\n",
        "'spam' + 'spamspam'\r\n",
        "'spam' * 3\r\n"
      ]
    },
    {
      "cell_type": "code",
      "metadata": {
        "colab": {
          "base_uri": "https://localhost:8080/",
          "height": 35
        },
        "id": "61_f5yi-BRp6",
        "outputId": "9013669e-f451-42a8-df81-b2099ba22aa9"
      },
      "source": [
        "'spam'+'spamspam''spam'*3"
      ],
      "execution_count": 6,
      "outputs": [
        {
          "output_type": "execute_result",
          "data": {
            "application/vnd.google.colaboratory.intrinsic+json": {
              "type": "string"
            },
            "text/plain": [
              "'spamspamspamspamspamspamspamspamspamspam'"
            ]
          },
          "metadata": {
            "tags": []
          },
          "execution_count": 6
        }
      ]
    },
    {
      "cell_type": "markdown",
      "metadata": {
        "id": "guD_eqUyBfsL"
      },
      "source": [
        "##Question 8 : Why is it that eggs is a true variable name but 100 is not?\r\n",
        "\r\n",
        "##Answer:\r\n",
        "\r\n",
        "python interpreter recognizes 'eggs' as valid variable name but 100 will not, because its consider 100 as values instead of variable."
      ]
    },
    {
      "cell_type": "markdown",
      "metadata": {
        "id": "Yer4icn1CPyO"
      },
      "source": [
        "##Question 9 : Which of the following three functions may be used to convert a value to an integer, a floating-point number, or a string?\r\n",
        "\r\n",
        "##Answer:\r\n",
        "\r\n",
        "int() - function to convert value into int\r\n",
        "\r\n",
        "float() - funciton to convert value into float\r\n",
        "\r\n",
        "str() - function to convert value into string\r\n"
      ]
    },
    {
      "cell_type": "markdown",
      "metadata": {
        "id": "PFuKJAjbC3gA"
      },
      "source": [
        "##Question 10 : What is the error caused by this expression? What would you do about it?\r\n",
        "\r\n",
        "'I have eaten ' + 99 + ' burritos.'\r\n",
        "\r\n",
        "##Answer :\r\n",
        "\r\n"
      ]
    },
    {
      "cell_type": "code",
      "metadata": {
        "colab": {
          "base_uri": "https://localhost:8080/",
          "height": 162
        },
        "id": "z5uN9A4ZCYgu",
        "outputId": "ffd6d223-f343-48f5-9076-1beab0435767"
      },
      "source": [
        "'I have eaten'+99+'burritos.'"
      ],
      "execution_count": 12,
      "outputs": [
        {
          "output_type": "error",
          "ename": "TypeError",
          "evalue": "ignored",
          "traceback": [
            "\u001b[0;31m---------------------------------------------------------------------------\u001b[0m",
            "\u001b[0;31mTypeError\u001b[0m                                 Traceback (most recent call last)",
            "\u001b[0;32m<ipython-input-12-92bcd71cb044>\u001b[0m in \u001b[0;36m<module>\u001b[0;34m()\u001b[0m\n\u001b[0;32m----> 1\u001b[0;31m \u001b[0;34m'I have eaten'\u001b[0m\u001b[0;34m+\u001b[0m\u001b[0;36m99\u001b[0m\u001b[0;34m+\u001b[0m\u001b[0;34m'burritos.'\u001b[0m\u001b[0;34m\u001b[0m\u001b[0;34m\u001b[0m\u001b[0m\n\u001b[0m",
            "\u001b[0;31mTypeError\u001b[0m: can only concatenate str (not \"int\") to str"
          ]
        }
      ]
    },
    {
      "cell_type": "code",
      "metadata": {
        "colab": {
          "base_uri": "https://localhost:8080/",
          "height": 35
        },
        "id": "afkzAq3EDCBI",
        "outputId": "a5742f77-e6e5-41e0-a94c-99c9411345e1"
      },
      "source": [
        "'I have eaten'+ str(99)+'burritos.'"
      ],
      "execution_count": 13,
      "outputs": [
        {
          "output_type": "execute_result",
          "data": {
            "application/vnd.google.colaboratory.intrinsic+json": {
              "type": "string"
            },
            "text/plain": [
              "'I have eaten99burritos.'"
            ]
          },
          "metadata": {
            "tags": []
          },
          "execution_count": 13
        }
      ]
    }
  ]
}