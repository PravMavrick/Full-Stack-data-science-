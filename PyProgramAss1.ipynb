{
  "nbformat": 4,
  "nbformat_minor": 0,
  "metadata": {
    "colab": {
      "name": "PyProgramAss1.ipynb",
      "provenance": [],
      "collapsed_sections": []
    },
    "kernelspec": {
      "name": "python3",
      "display_name": "Python 3"
    },
    "language_info": {
      "name": "python"
    }
  },
  "cells": [
    {
      "cell_type": "markdown",
      "metadata": {
        "id": "TS-5jS2WwdH7"
      },
      "source": [
        "#1.\tWrite a Python program to print \"Hello Python\"?"
      ]
    },
    {
      "cell_type": "code",
      "metadata": {
        "colab": {
          "base_uri": "https://localhost:8080/"
        },
        "id": "XXPmZ9S8whKi",
        "outputId": "ca1294f5-97b8-4d62-dfb1-d043d5117021"
      },
      "source": [
        "print(\"Hello Python\")"
      ],
      "execution_count": 1,
      "outputs": [
        {
          "output_type": "stream",
          "text": [
            "Hello Python\n"
          ],
          "name": "stdout"
        }
      ]
    },
    {
      "cell_type": "markdown",
      "metadata": {
        "id": "NdrKUdFixGeK"
      },
      "source": [
        "#2.\tWrite a Python program to do arithmetical operations addition and division.?"
      ]
    },
    {
      "cell_type": "code",
      "metadata": {
        "colab": {
          "base_uri": "https://localhost:8080/"
        },
        "id": "boFjkQV8wlBU",
        "outputId": "0e4f8f4b-f93a-45a6-893f-dc930a323809"
      },
      "source": [
        "num1=67 \n",
        "num2=5\n",
        "\n",
        "print( \"Addition : \", num1+num2)\n",
        "\n",
        "print(\"Division : \", num1/num2)\n"
      ],
      "execution_count": 7,
      "outputs": [
        {
          "output_type": "stream",
          "text": [
            "Addition :  72\n",
            "Division :  13.4\n"
          ],
          "name": "stdout"
        }
      ]
    },
    {
      "cell_type": "markdown",
      "metadata": {
        "id": "0DfL1YQ9xJPZ"
      },
      "source": [
        "#3.\tWrite a Python program to find the area of a triangle?"
      ]
    },
    {
      "cell_type": "code",
      "metadata": {
        "colab": {
          "base_uri": "https://localhost:8080/"
        },
        "id": "5Zoqd4uexCkg",
        "outputId": "237c5fdd-47ac-4a7e-cf7a-05294b92d8f0"
      },
      "source": [
        "height = 10.5\n",
        "width = 11.5\n",
        "\n",
        "area = 0.5*height*width\n",
        "\n",
        "print(\"Area of triagle : \", area)"
      ],
      "execution_count": 8,
      "outputs": [
        {
          "output_type": "stream",
          "text": [
            "Area of triagle :  60.375\n"
          ],
          "name": "stdout"
        }
      ]
    },
    {
      "cell_type": "markdown",
      "metadata": {
        "id": "57K5aCyjxpkE"
      },
      "source": [
        "#4.\tWrite a Python program to swap two variables?\n"
      ]
    },
    {
      "cell_type": "code",
      "metadata": {
        "colab": {
          "base_uri": "https://localhost:8080/"
        },
        "id": "ygbN4E9OxsfU",
        "outputId": "e6823879-d26c-494a-edd9-14f290f3399b"
      },
      "source": [
        "num1 = 10.5\n",
        "num2 =11.5\n",
        "\n",
        "num1=num1+num2\n",
        "num2=num1-num2\n",
        "num1=num1-num2\n",
        "\n",
        "print(\"Swapping of two numbers : \" , num1, num2)\n"
      ],
      "execution_count": 13,
      "outputs": [
        {
          "output_type": "stream",
          "text": [
            "Swapping of two numbers :  11.5 10.5\n"
          ],
          "name": "stdout"
        }
      ]
    },
    {
      "cell_type": "markdown",
      "metadata": {
        "id": "03aMr4EFyt5C"
      },
      "source": [
        "#5.\tWrite a Python program to generate a random number?"
      ]
    },
    {
      "cell_type": "code",
      "metadata": {
        "colab": {
          "base_uri": "https://localhost:8080/"
        },
        "id": "IpPfrnuoyrFr",
        "outputId": "8650fc41-7bb1-47a4-afab-0f3d02e433e4"
      },
      "source": [
        "import random\n",
        "print(\"Random number \" , random.randint(0,9))"
      ],
      "execution_count": 21,
      "outputs": [
        {
          "output_type": "stream",
          "text": [
            "Random number  7\n"
          ],
          "name": "stdout"
        }
      ]
    }
  ]
}